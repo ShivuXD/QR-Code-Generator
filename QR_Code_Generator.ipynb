{
  "nbformat": 4,
  "nbformat_minor": 0,
  "metadata": {
    "colab": {
      "provenance": [],
      "authorship_tag": "ABX9TyMqDKE9RsrEIDOx/9TlCDsi",
      "include_colab_link": true
    },
    "kernelspec": {
      "name": "python3",
      "display_name": "Python 3"
    },
    "language_info": {
      "name": "python"
    }
  },
  "cells": [
    {
      "cell_type": "markdown",
      "metadata": {
        "id": "view-in-github",
        "colab_type": "text"
      },
      "source": [
        "<a href=\"https://colab.research.google.com/github/ShivuXD/QR---Code-Generator/blob/main/QR_Code_Generator.ipynb\" target=\"_parent\"><img src=\"https://colab.research.google.com/assets/colab-badge.svg\" alt=\"Open In Colab\"/></a>"
      ]
    },
    {
      "cell_type": "code",
      "execution_count": null,
      "metadata": {
        "id": "_p1jfQ7BA7kD"
      },
      "outputs": [],
      "source": [
        "!pip install pyqrcode pypng\n",
        "import pyqrcode"
      ]
    },
    {
      "cell_type": "code",
      "source": [
        "data = input(\"Enter the link to generate the QR Code of: \")"
      ],
      "metadata": {
        "id": "fEzJZQ5UBLM7"
      },
      "execution_count": null,
      "outputs": []
    },
    {
      "cell_type": "code",
      "source": [
        "qr = pyqrcode.create(data)\n",
        "qr.png(\"QR.png\", scale= 5)"
      ],
      "metadata": {
        "id": "eB8iqRC7BogV"
      },
      "execution_count": 4,
      "outputs": []
    }
  ]
}